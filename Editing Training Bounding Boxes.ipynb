{
 "cells": [
  {
   "cell_type": "code",
   "execution_count": 1,
   "metadata": {},
   "outputs": [],
   "source": [
    "import pandas as pd\n",
    "import numpy as np"
   ]
  },
  {
   "cell_type": "code",
   "execution_count": 8,
   "metadata": {
    "scrolled": true
   },
   "outputs": [],
   "source": [
    "# setting path and importing data\n",
    "PATH = \"C:/Users/jecks/Documents/School/GCI/gci_data/pandas_tomfoolery/stage_1_train_labels.csv\"\n",
    "df = pd.read_csv(PATH)"
   ]
  },
  {
   "cell_type": "code",
   "execution_count": 43,
   "metadata": {},
   "outputs": [],
   "source": [
    "# splitting dataset between benign and malignant cases\n",
    "df_no_pneumonia = df.loc[df[\"Target\"]==0]\n",
    "df_yes_pneumonia = df.loc[df[\"Target\"]==1]\n",
    "\n",
    "# confirming data splits as expected\n",
    "print(df_yes_pneumonia.head())\n",
    "print(df_no_pneumonia.head())"
   ]
  },
  {
   "cell_type": "markdown",
   "metadata": {},
   "source": [
    "#### Converting [y, x, width, height] into [x1, x2, y1, y2]\n",
    "The default parameters for bounding boxes are 'x', 'y', 'width', and 'height'. The required parameters for the network are 'x1', 'x2', 'y1', 'y2'. The default 'x' and 'y' are the x and y coordinates of the upper left-most point in the bounding box. This means our 'x1' is 'x' and 'y2' is 'y' and we can calculate 'x2' as 'x1 + width' and 'y1' as 'y2 - height'"
   ]
  },
  {
   "cell_type": "code",
   "execution_count": null,
   "metadata": {},
   "outputs": [],
   "source": []
  }
 ],
 "metadata": {
  "kernelspec": {
   "display_name": "Python 3",
   "language": "python",
   "name": "python3"
  },
  "language_info": {
   "codemirror_mode": {
    "name": "ipython",
    "version": 3
   },
   "file_extension": ".py",
   "mimetype": "text/x-python",
   "name": "python",
   "nbconvert_exporter": "python",
   "pygments_lexer": "ipython3",
   "version": "3.6.6"
  }
 },
 "nbformat": 4,
 "nbformat_minor": 2
}
